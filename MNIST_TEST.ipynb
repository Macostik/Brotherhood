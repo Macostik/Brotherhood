{
  "nbformat": 4,
  "nbformat_minor": 0,
  "metadata": {
    "colab": {
      "provenance": [],
      "gpuType": "T4",
      "authorship_tag": "ABX9TyOILj5TksuVrhLkzjpNpYyy",
      "include_colab_link": true
    },
    "kernelspec": {
      "name": "python3",
      "display_name": "Python 3"
    },
    "language_info": {
      "name": "python"
    },
    "accelerator": "GPU"
  },
  "cells": [
    {
      "cell_type": "markdown",
      "metadata": {
        "id": "view-in-github",
        "colab_type": "text"
      },
      "source": [
        "<a href=\"https://colab.research.google.com/github/Macostik/Brotherhood/blob/master/MNIST_TEST.ipynb\" target=\"_parent\"><img src=\"https://colab.research.google.com/assets/colab-badge.svg\" alt=\"Open In Colab\"/></a>"
      ]
    },
    {
      "cell_type": "code",
      "execution_count": 3,
      "metadata": {
        "colab": {
          "base_uri": "https://localhost:8080/"
        },
        "id": "HUIcX0TuLbUP",
        "outputId": "1b15cf5d-110c-4323-9855-a92d7b57b723"
      },
      "outputs": [
        {
          "output_type": "stream",
          "name": "stdout",
          "text": [
            "Downloading http://fashion-mnist.s3-website.eu-central-1.amazonaws.com/train-images-idx3-ubyte.gz\n",
            "Downloading http://fashion-mnist.s3-website.eu-central-1.amazonaws.com/train-images-idx3-ubyte.gz to data/FashionMNIST/raw/train-images-idx3-ubyte.gz\n"
          ]
        },
        {
          "output_type": "stream",
          "name": "stderr",
          "text": [
            "100%|██████████| 26421880/26421880 [00:02<00:00, 9984993.59it/s] \n"
          ]
        },
        {
          "output_type": "stream",
          "name": "stdout",
          "text": [
            "Extracting data/FashionMNIST/raw/train-images-idx3-ubyte.gz to data/FashionMNIST/raw\n",
            "\n",
            "Downloading http://fashion-mnist.s3-website.eu-central-1.amazonaws.com/train-labels-idx1-ubyte.gz\n",
            "Downloading http://fashion-mnist.s3-website.eu-central-1.amazonaws.com/train-labels-idx1-ubyte.gz to data/FashionMNIST/raw/train-labels-idx1-ubyte.gz\n"
          ]
        },
        {
          "output_type": "stream",
          "name": "stderr",
          "text": [
            "100%|██████████| 29515/29515 [00:00<00:00, 214745.33it/s]\n"
          ]
        },
        {
          "output_type": "stream",
          "name": "stdout",
          "text": [
            "Extracting data/FashionMNIST/raw/train-labels-idx1-ubyte.gz to data/FashionMNIST/raw\n",
            "\n",
            "Downloading http://fashion-mnist.s3-website.eu-central-1.amazonaws.com/t10k-images-idx3-ubyte.gz\n",
            "Downloading http://fashion-mnist.s3-website.eu-central-1.amazonaws.com/t10k-images-idx3-ubyte.gz to data/FashionMNIST/raw/t10k-images-idx3-ubyte.gz\n"
          ]
        },
        {
          "output_type": "stream",
          "name": "stderr",
          "text": [
            "100%|██████████| 4422102/4422102 [00:06<00:00, 708275.01it/s] \n"
          ]
        },
        {
          "output_type": "stream",
          "name": "stdout",
          "text": [
            "Extracting data/FashionMNIST/raw/t10k-images-idx3-ubyte.gz to data/FashionMNIST/raw\n",
            "\n",
            "Downloading http://fashion-mnist.s3-website.eu-central-1.amazonaws.com/t10k-labels-idx1-ubyte.gz\n",
            "Downloading http://fashion-mnist.s3-website.eu-central-1.amazonaws.com/t10k-labels-idx1-ubyte.gz to data/FashionMNIST/raw/t10k-labels-idx1-ubyte.gz\n"
          ]
        },
        {
          "output_type": "stream",
          "name": "stderr",
          "text": [
            "100%|██████████| 5148/5148 [00:00<00:00, 14589376.35it/s]\n"
          ]
        },
        {
          "output_type": "stream",
          "name": "stdout",
          "text": [
            "Extracting data/FashionMNIST/raw/t10k-labels-idx1-ubyte.gz to data/FashionMNIST/raw\n",
            "\n",
            "Dataset FashionMNIST\n",
            "    Number of datapoints: 60000\n",
            "    Root location: data\n",
            "    Split: Train\n",
            "    StandardTransform\n",
            "Transform: ToTensor()\n",
            "Dataset FashionMNIST\n",
            "    Number of datapoints: 10000\n",
            "    Root location: data\n",
            "    Split: Test\n",
            "    StandardTransform\n",
            "Transform: ToTensor()\n",
            "<torch.utils.data.dataloader.DataLoader object at 0x7eb9a5a7a1d0>\n",
            "<torch.utils.data.dataloader.DataLoader object at 0x7eb8f575c910>\n",
            "NeuralNetwork(\n",
            "  (flatten): Flatten(start_dim=1, end_dim=-1)\n",
            "  (liner_relu_stack): Sequential(\n",
            "    (0): Linear(in_features=784, out_features=512, bias=True)\n",
            "    (1): ReLU()\n",
            "    (2): Linear(in_features=512, out_features=512, bias=True)\n",
            "    (3): ReLU()\n",
            "    (4): Linear(in_features=512, out_features=10, bias=True)\n",
            "    (5): ReLU()\n",
            "  )\n",
            ")\n",
            "epoch 1 \n",
            " --------------------------\n",
            "loss: 2.311149 [    0 / 60000]\n",
            "loss: 0.974141 [ 6400 / 60000]\n",
            "loss: 0.594720 [12800 / 60000]\n",
            "loss: 0.722392 [19200 / 60000]\n",
            "loss: 0.613282 [25600 / 60000]\n",
            "loss: 0.505549 [32000 / 60000]\n",
            "loss: 0.538848 [38400 / 60000]\n",
            "loss: 0.595785 [44800 / 60000]\n",
            "loss: 0.594365 [51200 / 60000]\n",
            "loss: 0.462094 [57600 / 60000]\n",
            "Test error: \n",
            " Accuracy 79.6% Avg loss 0.008535 \n",
            "\n",
            "epoch 2 \n",
            " --------------------------\n",
            "loss: 0.425544 [    0 / 60000]\n",
            "loss: 0.435185 [ 6400 / 60000]\n",
            "loss: 0.377178 [12800 / 60000]\n",
            "loss: 0.439863 [19200 / 60000]\n",
            "loss: 0.413960 [25600 / 60000]\n",
            "loss: 0.445296 [32000 / 60000]\n",
            "loss: 0.405965 [38400 / 60000]\n",
            "loss: 0.503223 [44800 / 60000]\n",
            "loss: 0.508487 [51200 / 60000]\n",
            "loss: 0.428303 [57600 / 60000]\n",
            "Test error: \n",
            " Accuracy 81.8% Avg loss 0.007524 \n",
            "\n",
            "epoch 3 \n",
            " --------------------------\n",
            "loss: 0.336460 [    0 / 60000]\n",
            "loss: 0.363417 [ 6400 / 60000]\n",
            "loss: 0.312460 [12800 / 60000]\n",
            "loss: 0.369635 [19200 / 60000]\n",
            "loss: 0.333263 [25600 / 60000]\n",
            "loss: 0.409765 [32000 / 60000]\n",
            "loss: 0.351642 [38400 / 60000]\n",
            "loss: 0.455915 [44800 / 60000]\n",
            "loss: 0.462932 [51200 / 60000]\n",
            "loss: 0.409260 [57600 / 60000]\n",
            "Test error: \n",
            " Accuracy 83.0% Avg loss 0.007049 \n",
            "\n",
            "epoch 4 \n",
            " --------------------------\n",
            "loss: 0.292885 [    0 / 60000]\n",
            "loss: 0.335444 [ 6400 / 60000]\n",
            "loss: 0.273147 [12800 / 60000]\n",
            "loss: 0.331582 [19200 / 60000]\n",
            "loss: 0.314102 [25600 / 60000]\n",
            "loss: 0.386567 [32000 / 60000]\n",
            "loss: 0.312678 [38400 / 60000]\n",
            "loss: 0.412408 [44800 / 60000]\n",
            "loss: 0.426708 [51200 / 60000]\n",
            "loss: 0.405736 [57600 / 60000]\n",
            "Test error: \n",
            " Accuracy 84.2% Avg loss 0.006527 \n",
            "\n",
            "epoch 5 \n",
            " --------------------------\n",
            "loss: 0.242110 [    0 / 60000]\n",
            "loss: 0.319469 [ 6400 / 60000]\n",
            "loss: 0.235755 [12800 / 60000]\n",
            "loss: 0.307928 [19200 / 60000]\n",
            "loss: 0.293461 [25600 / 60000]\n",
            "loss: 0.373956 [32000 / 60000]\n",
            "loss: 0.290317 [38400 / 60000]\n",
            "loss: 0.381510 [44800 / 60000]\n",
            "loss: 0.386003 [51200 / 60000]\n",
            "loss: 0.397192 [57600 / 60000]\n",
            "Test error: \n",
            " Accuracy 85.2% Avg loss 0.006186 \n",
            "\n",
            "epoch 6 \n",
            " --------------------------\n",
            "loss: 0.219479 [    0 / 60000]\n",
            "loss: 0.313364 [ 6400 / 60000]\n",
            "loss: 0.207114 [12800 / 60000]\n",
            "loss: 0.293639 [19200 / 60000]\n",
            "loss: 0.289972 [25600 / 60000]\n",
            "loss: 0.362524 [32000 / 60000]\n",
            "loss: 0.275840 [38400 / 60000]\n",
            "loss: 0.348725 [44800 / 60000]\n",
            "loss: 0.370399 [51200 / 60000]\n",
            "loss: 0.379728 [57600 / 60000]\n",
            "Test error: \n",
            " Accuracy 85.4% Avg loss 0.006077 \n",
            "\n",
            "epoch 7 \n",
            " --------------------------\n",
            "loss: 0.208568 [    0 / 60000]\n",
            "loss: 0.305857 [ 6400 / 60000]\n",
            "loss: 0.190192 [12800 / 60000]\n",
            "loss: 0.273186 [19200 / 60000]\n",
            "loss: 0.282936 [25600 / 60000]\n",
            "loss: 0.352857 [32000 / 60000]\n",
            "loss: 0.253139 [38400 / 60000]\n",
            "loss: 0.329145 [44800 / 60000]\n",
            "loss: 0.352032 [51200 / 60000]\n",
            "loss: 0.366939 [57600 / 60000]\n",
            "Test error: \n",
            " Accuracy 85.8% Avg loss 0.005937 \n",
            "\n",
            "epoch 8 \n",
            " --------------------------\n",
            "loss: 0.194406 [    0 / 60000]\n",
            "loss: 0.290511 [ 6400 / 60000]\n",
            "loss: 0.174474 [12800 / 60000]\n",
            "loss: 0.262342 [19200 / 60000]\n",
            "loss: 0.276817 [25600 / 60000]\n",
            "loss: 0.342576 [32000 / 60000]\n",
            "loss: 0.233651 [38400 / 60000]\n",
            "loss: 0.324768 [44800 / 60000]\n",
            "loss: 0.323957 [51200 / 60000]\n",
            "loss: 0.352693 [57600 / 60000]\n",
            "Test error: \n",
            " Accuracy 86.1% Avg loss 0.005860 \n",
            "\n",
            "epoch 9 \n",
            " --------------------------\n",
            "loss: 0.192115 [    0 / 60000]\n",
            "loss: 0.283594 [ 6400 / 60000]\n",
            "loss: 0.161018 [12800 / 60000]\n",
            "loss: 0.241075 [19200 / 60000]\n",
            "loss: 0.268201 [25600 / 60000]\n",
            "loss: 0.326720 [32000 / 60000]\n",
            "loss: 0.228858 [38400 / 60000]\n",
            "loss: 0.310094 [44800 / 60000]\n",
            "loss: 0.317087 [51200 / 60000]\n",
            "loss: 0.342325 [57600 / 60000]\n",
            "Test error: \n",
            " Accuracy 86.3% Avg loss 0.005735 \n",
            "\n",
            "epoch 10 \n",
            " --------------------------\n",
            "loss: 0.176518 [    0 / 60000]\n",
            "loss: 0.268744 [ 6400 / 60000]\n",
            "loss: 0.149322 [12800 / 60000]\n",
            "loss: 0.245665 [19200 / 60000]\n",
            "loss: 0.261670 [25600 / 60000]\n",
            "loss: 0.321898 [32000 / 60000]\n",
            "loss: 0.213182 [38400 / 60000]\n",
            "loss: 0.287183 [44800 / 60000]\n",
            "loss: 0.307929 [51200 / 60000]\n",
            "loss: 0.325615 [57600 / 60000]\n",
            "Test error: \n",
            " Accuracy 86.8% Avg loss 0.005578 \n",
            "\n",
            "Done!\n"
          ]
        }
      ],
      "source": [
        "%matplotlib inline\n",
        "import torch\n",
        "from torch import nn\n",
        "from torch.utils.data import DataLoader\n",
        "from torchvision import datasets\n",
        "from torchvision.transforms import ToTensor, Lambda\n",
        "\n",
        "training_data = datasets.FashionMNIST(\n",
        "    root=\"data\",\n",
        "    train=True,\n",
        "    download=True,\n",
        "    transform=ToTensor()\n",
        "    )\n",
        "\n",
        "test_data = datasets.FashionMNIST(\n",
        "    root=\"data\",\n",
        "    train=False,\n",
        "    download = True,\n",
        "    transform = ToTensor()\n",
        "    )\n",
        "\n",
        "print(training_data)\n",
        "print(test_data)\n",
        "\n",
        "train_dataloader = DataLoader(dataset=training_data, batch_size=64)\n",
        "test_dataloader = DataLoader(dataset=test_data, batch_size=64)\n",
        "\n",
        "print(train_dataloader)\n",
        "print(test_dataloader)\n",
        "\n",
        "class NeuralNetwork(nn.Module):\n",
        "  def __init__(self):\n",
        "    super(NeuralNetwork, self).__init__()\n",
        "    self.flatten = nn.Flatten()\n",
        "    self.liner_relu_stack = nn.Sequential(\n",
        "        nn.Linear(28*28, 512),\n",
        "        nn.ReLU(),\n",
        "        nn.Linear(512, 512),\n",
        "        nn.ReLU(),\n",
        "        nn.Linear(512, 10),\n",
        "        nn.ReLU()\n",
        "    )\n",
        "\n",
        "  def forward(self, x):\n",
        "    x = self.flatten(x)\n",
        "    logits = self.liner_relu_stack(x)\n",
        "    return logits\n",
        "\n",
        "model = NeuralNetwork()\n",
        "\n",
        "print(model)\n",
        "\n",
        "learing_rate = 0.1\n",
        "batch_size = 64\n",
        "epochs = 10\n",
        "\n",
        "loss_fn = nn.CrossEntropyLoss()\n",
        "optimazer = torch.optim.SGD(model.parameters(), lr=learing_rate)\n",
        "\n",
        "def train_loop(dataloader, model, loss_fn, optimazer):\n",
        "  size = len(dataloader.dataset)\n",
        "  for batch, (X, y) in enumerate(dataloader):\n",
        "    pred = model(X)\n",
        "    loss = loss_fn(pred, y)\n",
        "\n",
        "    optimazer.zero_grad()\n",
        "    loss.backward()\n",
        "    optimazer.step()\n",
        "    if batch % 100 == 0:\n",
        "      loss, current = loss.item(), batch * len(X)\n",
        "\n",
        "      print(f\"loss: {loss:>7f} [{current:>5d} / {size:>5d}]\")\n",
        "\n",
        "def test_loop(dataloader, model, loss_fn):\n",
        "  size = len(dataloader.dataset)\n",
        "  test_loss, correct = 0, 0\n",
        "\n",
        "  with torch.no_grad():\n",
        "    for X, y in dataloader:\n",
        "      pred = model(X)\n",
        "      test_loss += loss_fn(pred, y).item()\n",
        "      correct += (pred.argmax(1) == y).type(torch.float).sum().item()\n",
        "\n",
        "  test_loss /= size\n",
        "  correct /= size\n",
        "\n",
        "  print(f\"Test error: \\n Accuracy {100*correct:>0.1f}% Avg loss {test_loss:>8f} \\n\")\n",
        "\n",
        "\n",
        "torch.manual_seed(42)\n",
        "\n",
        "for i in range(epochs):\n",
        "  print(f\"epoch {i+1} \\n --------------------------\")\n",
        "  train_loop(dataloader = train_dataloader, model = model, loss_fn = loss_fn, optimazer = optimazer)\n",
        "  test_loop(dataloader = test_dataloader, model = model, loss_fn = loss_fn)\n",
        "print(\"Done!\")\n"
      ]
    },
    {
      "cell_type": "code",
      "source": [
        "PATH = \"data/mnist_data_model.pth\"\n",
        "torch.save(model.state_dict(), PATH)\n",
        "saved_model = NeuralNetwork()\n",
        "saved_model.load_state_dict(torch.load(PATH))\n",
        "saved_model.eval()"
      ],
      "metadata": {
        "colab": {
          "base_uri": "https://localhost:8080/"
        },
        "id": "FLHs9DEuVJOH",
        "outputId": "42761021-c49f-47e1-d99c-e59a2fd47071"
      },
      "execution_count": 5,
      "outputs": [
        {
          "output_type": "execute_result",
          "data": {
            "text/plain": [
              "NeuralNetwork(\n",
              "  (flatten): Flatten(start_dim=1, end_dim=-1)\n",
              "  (liner_relu_stack): Sequential(\n",
              "    (0): Linear(in_features=784, out_features=512, bias=True)\n",
              "    (1): ReLU()\n",
              "    (2): Linear(in_features=512, out_features=512, bias=True)\n",
              "    (3): ReLU()\n",
              "    (4): Linear(in_features=512, out_features=10, bias=True)\n",
              "    (5): ReLU()\n",
              "  )\n",
              ")"
            ]
          },
          "metadata": {},
          "execution_count": 5
        }
      ]
    },
    {
      "cell_type": "code",
      "source": [
        "%pip install onnx\n",
        "%pip install onnxruntime-gpu\n",
        "\n",
        "import onnxruntime\n",
        "import torch.onnx as onnx\n",
        "\n"
      ],
      "metadata": {
        "colab": {
          "base_uri": "https://localhost:8080/"
        },
        "id": "C_1YQmVQWFXy",
        "outputId": "e441c750-0cf8-407a-f976-451c8530c3e8"
      },
      "execution_count": 6,
      "outputs": [
        {
          "output_type": "stream",
          "name": "stdout",
          "text": [
            "Collecting onnx\n",
            "  Downloading onnx-1.16.2-cp310-cp310-manylinux_2_17_x86_64.manylinux2014_x86_64.whl.metadata (16 kB)\n",
            "Requirement already satisfied: numpy>=1.20 in /usr/local/lib/python3.10/dist-packages (from onnx) (1.26.4)\n",
            "Requirement already satisfied: protobuf>=3.20.2 in /usr/local/lib/python3.10/dist-packages (from onnx) (3.20.3)\n",
            "Downloading onnx-1.16.2-cp310-cp310-manylinux_2_17_x86_64.manylinux2014_x86_64.whl (15.9 MB)\n",
            "\u001b[2K   \u001b[90m━━━━━━━━━━━━━━━━━━━━━━━━━━━━━━━━━━━━━━━━\u001b[0m \u001b[32m15.9/15.9 MB\u001b[0m \u001b[31m64.0 MB/s\u001b[0m eta \u001b[36m0:00:00\u001b[0m\n",
            "\u001b[?25hInstalling collected packages: onnx\n",
            "Successfully installed onnx-1.16.2\n",
            "Collecting onnxruntime-gpu\n",
            "  Downloading onnxruntime_gpu-1.18.1-cp310-cp310-manylinux_2_27_x86_64.manylinux_2_28_x86_64.whl.metadata (4.4 kB)\n",
            "Collecting coloredlogs (from onnxruntime-gpu)\n",
            "  Downloading coloredlogs-15.0.1-py2.py3-none-any.whl.metadata (12 kB)\n",
            "Requirement already satisfied: flatbuffers in /usr/local/lib/python3.10/dist-packages (from onnxruntime-gpu) (24.3.25)\n",
            "Requirement already satisfied: numpy<2.0,>=1.21.6 in /usr/local/lib/python3.10/dist-packages (from onnxruntime-gpu) (1.26.4)\n",
            "Requirement already satisfied: packaging in /usr/local/lib/python3.10/dist-packages (from onnxruntime-gpu) (24.1)\n",
            "Requirement already satisfied: protobuf in /usr/local/lib/python3.10/dist-packages (from onnxruntime-gpu) (3.20.3)\n",
            "Requirement already satisfied: sympy in /usr/local/lib/python3.10/dist-packages (from onnxruntime-gpu) (1.13.1)\n",
            "Collecting humanfriendly>=9.1 (from coloredlogs->onnxruntime-gpu)\n",
            "  Downloading humanfriendly-10.0-py2.py3-none-any.whl.metadata (9.2 kB)\n",
            "Requirement already satisfied: mpmath<1.4,>=1.1.0 in /usr/local/lib/python3.10/dist-packages (from sympy->onnxruntime-gpu) (1.3.0)\n",
            "Downloading onnxruntime_gpu-1.18.1-cp310-cp310-manylinux_2_27_x86_64.manylinux_2_28_x86_64.whl (200.8 MB)\n",
            "\u001b[2K   \u001b[90m━━━━━━━━━━━━━━━━━━━━━━━━━━━━━━━━━━━━━━━━\u001b[0m \u001b[32m200.8/200.8 MB\u001b[0m \u001b[31m3.6 MB/s\u001b[0m eta \u001b[36m0:00:00\u001b[0m\n",
            "\u001b[?25hDownloading coloredlogs-15.0.1-py2.py3-none-any.whl (46 kB)\n",
            "\u001b[2K   \u001b[90m━━━━━━━━━━━━━━━━━━━━━━━━━━━━━━━━━━━━━━━━\u001b[0m \u001b[32m46.0/46.0 kB\u001b[0m \u001b[31m2.8 MB/s\u001b[0m eta \u001b[36m0:00:00\u001b[0m\n",
            "\u001b[?25hDownloading humanfriendly-10.0-py2.py3-none-any.whl (86 kB)\n",
            "\u001b[2K   \u001b[90m━━━━━━━━━━━━━━━━━━━━━━━━━━━━━━━━━━━━━━━━\u001b[0m \u001b[32m86.8/86.8 kB\u001b[0m \u001b[31m6.1 MB/s\u001b[0m eta \u001b[36m0:00:00\u001b[0m\n",
            "\u001b[?25hInstalling collected packages: humanfriendly, coloredlogs, onnxruntime-gpu\n",
            "Successfully installed coloredlogs-15.0.1 humanfriendly-10.0 onnxruntime-gpu-1.18.1\n"
          ]
        }
      ]
    },
    {
      "cell_type": "code",
      "source": [
        "imput_image = torch.zeros((1, 28, 28))\n",
        "onnx_model = 'data/model.onnx'\n",
        "onnx.export(saved_model, imput_image, onnx_model)"
      ],
      "metadata": {
        "id": "5X2LmcW4VfVe"
      },
      "execution_count": 7,
      "outputs": []
    },
    {
      "cell_type": "code",
      "source": [
        "classes = [\n",
        "    \"T-shirt/top\",\n",
        "    \"Trouser\",\n",
        "    \"Pullover\",\n",
        "    \"Dress\",\n",
        "    \"Coat\",\n",
        "    \"Sandal\",\n",
        "    \"Shirt\",\n",
        "    \"Sneaker\",\n",
        "    \"Bag\",\n",
        "    \"Ankle boot\",\n",
        "]\n",
        "\n",
        "X, y = test_data[1][0], test_data[1][1]"
      ],
      "metadata": {
        "id": "A_5zGalqbkZA"
      },
      "execution_count": 8,
      "outputs": []
    },
    {
      "cell_type": "code",
      "source": [
        "session = onnxruntime.InferenceSession(onnx_model, None)\n",
        "input_name = session.get_inputs()[0].name\n",
        "output_name = session.get_outputs()[0].name\n",
        "\n",
        "result = session.run([output_name], {input_name: X.numpy()})\n",
        "predicted, actual = classes[result[0][0].argmax(0)], classes[y]\n",
        "print(f'Predicted; \"{predicted}\", Actual: \"{actual}\"')"
      ],
      "metadata": {
        "colab": {
          "base_uri": "https://localhost:8080/"
        },
        "id": "HQ5XJTF2b77B",
        "outputId": "f068047f-3faf-4a3f-a899-9254edc1f69f"
      },
      "execution_count": 9,
      "outputs": [
        {
          "output_type": "stream",
          "name": "stdout",
          "text": [
            "Predicted; \"Pullover\", Actual: \"Pullover\"\n"
          ]
        }
      ]
    },
    {
      "cell_type": "code",
      "source": [
        "# training_datalaoder = DataLoader(training_data, batch_size = batch_size)\n",
        "# test_dataloader = DataLoader(test_data, batch_size = batch_size)\n",
        "for X, y in test_dataloader:\n",
        "  print(\"Shape of X [N, C, H, W]\", X.shape)\n",
        "  print(\"Shape of y\", y.shape, y.dtype)\n",
        "  break"
      ],
      "metadata": {
        "id": "O1TI-bXEdE0o",
        "colab": {
          "base_uri": "https://localhost:8080/"
        },
        "outputId": "9db36f9b-b9c4-4376-979c-874dd0fcf5b3"
      },
      "execution_count": 10,
      "outputs": [
        {
          "output_type": "stream",
          "name": "stdout",
          "text": [
            "Shape of X [N, C, H, W] torch.Size([64, 1, 28, 28])\n",
            "Shape of y torch.Size([64]) torch.int64\n"
          ]
        }
      ]
    },
    {
      "cell_type": "code",
      "source": [
        "import matplotlib.pyplot as plt\n",
        "\n",
        "#Display sample data\n",
        "figure = plt.figure(figsize=(10,8))\n",
        "cols, rows = 5, 5\n",
        "for i in range(1, cols * rows + 1):\n",
        "  idx = torch.randint(len(test_data), size=(1,)).item()\n",
        "  img, label = test_data[idx]\n",
        "  figure.add_subplot(rows, cols, i)\n",
        "  plt.title(label)\n",
        "  plt.axis(\"off\")\n",
        "  plt.imshow(img.squeeze(), cmap=\"gray\")\n",
        "plt.show()"
      ],
      "metadata": {
        "colab": {
          "base_uri": "https://localhost:8080/",
          "height": 675
        },
        "id": "dnftj4w7m21F",
        "outputId": "2b9a43be-142d-475d-b69b-f139bb8abb71"
      },
      "execution_count": 12,
      "outputs": [
        {
          "output_type": "display_data",
          "data": {
            "text/plain": [
              "<Figure size 1000x800 with 25 Axes>"
            ],
            "image/png": "[encoded data removed]"
          },
          "metadata": {}
        }
      ]
    }
  ]
}